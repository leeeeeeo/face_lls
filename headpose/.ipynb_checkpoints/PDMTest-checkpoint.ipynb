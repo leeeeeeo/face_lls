{
 "cells": [
  {
   "cell_type": "code",
   "execution_count": 2,
   "metadata": {},
   "outputs": [
    {
     "name": "stdout",
     "output_type": "stream",
     "text": [
      "Found 20 assets, index the returned LazyList to import.\n",
      "[====================] 100% (20/20) - done.                                     \n",
      "<class 'menpo.shape.pointcloud.PointCloud'>\n"
     ]
    }
   ],
   "source": [
    "from pathlib import Path\n",
    "import menpo.io as mio\n",
    "from menpo.visualize import print_progress\n",
    "import matplotlib.pyplot as plt\n",
    "from menpo.transform import AlignmentAffine\n",
    "import numpy as np\n",
    "import cv2\n",
    "\n",
    "path_to_lfpw = Path('/Users/lls/Documents/face/data/source/')\n",
    "\n",
    "training_shapes = []\n",
    "for lg in print_progress(mio.import_landmark_files(path_to_lfpw / '*.pts', verbose=True)):\n",
    "    training_shapes.append(lg['all'])\n",
    "print(type(training_shapes[0]))\n",
    "training_shapes0 = training_shapes[0].h_points()[:2, ::].T\n",
    "#print(training_shapes0)"
   ]
  },
  {
   "cell_type": "code",
   "execution_count": 3,
   "metadata": {},
   "outputs": [
    {
     "data": {
      "image/png": "[encoded data removed]",
      "text/plain": [
       "<matplotlib.figure.Figure at 0x1a11f7ed90>"
      ]
     },
     "metadata": {},
     "output_type": "display_data"
    },
    {
     "ename": "NameError",
     "evalue": "name 'pdm' is not defined",
     "output_type": "error",
     "traceback": [
      "\u001b[0;31m---------------------------------------------------------------------------\u001b[0m",
      "\u001b[0;31mNameError\u001b[0m                                 Traceback (most recent call last)",
      "\u001b[0;32m<ipython-input-3-16e133f74a90>\u001b[0m in \u001b[0;36m<module>\u001b[0;34m()\u001b[0m\n\u001b[1;32m      2\u001b[0m \u001b[0;32mfrom\u001b[0m \u001b[0mmenpowidgets\u001b[0m \u001b[0;32mimport\u001b[0m \u001b[0mvisualize_pointclouds\u001b[0m\u001b[0;34m\u001b[0m\u001b[0m\n\u001b[1;32m      3\u001b[0m \u001b[0mvisualize_pointclouds\u001b[0m\u001b[0;34m(\u001b[0m\u001b[0mtraining_shapes\u001b[0m\u001b[0;34m)\u001b[0m\u001b[0;34m\u001b[0m\u001b[0m\n\u001b[0;32m----> 4\u001b[0;31m \u001b[0mpdm\u001b[0m\u001b[0;34m.\u001b[0m\u001b[0mview_shape_models_widget\u001b[0m\u001b[0;34m(\u001b[0m\u001b[0;34m)\u001b[0m\u001b[0;34m\u001b[0m\u001b[0m\n\u001b[0m",
      "\u001b[0;31mNameError\u001b[0m: name 'pdm' is not defined"
     ]
    }
   ],
   "source": [
    "%matplotlib inline\n",
    "from menpowidgets import visualize_pointclouds\n",
    "visualize_pointclouds(training_shapes)\n",
    "pdm.view_shape_models_widget()"
   ]
  },
  {
   "cell_type": "code",
   "execution_count": 14,
   "metadata": {},
   "outputs": [
    {
     "name": "stdout",
     "output_type": "stream",
     "text": [
      "Point Distribution Model with Similarity Transform \n",
      " - total # components:      23\n",
      " - # similarity components: 4\n",
      " - # PCA components:        19\n",
      " - # active components:     4 + 19 = 23\n",
      " - centred:                 True\n",
      " - # features:              136\n",
      " - kept variance:           7.6e+02  100.0%\n",
      " - noise variance:          0.0  0.0%\n",
      " - components shape:        (19, 136)\n",
      "\n"
     ]
    }
   ],
   "source": [
    "from menpofit.modelinstance import OrthoPDM\n",
    "shape_model = OrthoPDM(training_shapes, max_n_components=None)\n",
    "#shape_model.n_active_components = 20\n",
    "print(shape_model)"
   ]
  },
  {
   "cell_type": "code",
   "execution_count": 75,
   "metadata": {},
   "outputs": [
    {
     "data": {
      "image/png": "[encoded data removed]",
      "text/plain": [
       "<matplotlib.figure.Figure at 0x129e2cb00>"
      ]
     },
     "metadata": {},
     "output_type": "display_data"
    }
   ],
   "source": [
    "from menpowidgets import visualize_shape_model\n",
    "visualize_shape_model(shape_model.model)"
   ]
  },
  {
   "cell_type": "code",
   "execution_count": 15,
   "metadata": {},
   "outputs": [],
   "source": [
    "mean_shape = shape_model.model.mean()\n",
    "#mean_shape.view(render_axes=False)"
   ]
  },
  {
   "cell_type": "code",
   "execution_count": 43,
   "metadata": {},
   "outputs": [],
   "source": [
    "trans = AlignmentAffine(mean_shape, training_shapes[0])\n",
    "mean_source_trans_pc = trans.apply(mean_shape)\n",
    "mean_source_trans = mean_source_trans_pc.h_points()[:2, ::].T\n",
    "#mean_source_vector = mean_shape.as_vector()\n",
    "mean_source = mean_shape.h_points()[:2, ::].T\n",
    "#instance = shape_model.similarity_model.instance([0., 0., 0., 0.])\n",
    "#ins = instance.h_points()[:2, ::].T\n",
    "#print((mean_source_trans))"
   ]
  },
  {
   "cell_type": "code",
   "execution_count": 17,
   "metadata": {},
   "outputs": [
    {
     "data": {
      "text/plain": [
       "'\\nshow_img = cv2.imread(\\'/Users/lls/lls/FaceDetect/my/dataset/TestS132/source/S132_1.png\\')\\n\\nfor i in range(len(mean_source_trans)):\\n    x = int(mean_source_trans[i][1])\\n    y = int(mean_source_trans[i][0])\\n    cv2.circle(show_img, (x, y), 2, (0, 0, 255), -1)\\n    \\ncv2.namedWindow(\"result\")\\n#img = cv2.resize(img, (0, 0), fx = 1.5, fy = 1.5, interpolation=cv2.INTER_CUBIC)\\n#cv2.imshow(\"result\", show_img)\\n#cv2.waitKey(0)\\n#cv2.destroyAllWindows()\\nprint(type(show_img))\\n'"
      ]
     },
     "execution_count": 17,
     "metadata": {},
     "output_type": "execute_result"
    }
   ],
   "source": [
    "'''\n",
    "show_img = cv2.imread('/Users/lls/lls/FaceDetect/my/dataset/TestS132/source/S132_1.png')\n",
    "\n",
    "for i in range(len(mean_source_trans)):\n",
    "    x = int(mean_source_trans[i][1])\n",
    "    y = int(mean_source_trans[i][0])\n",
    "    cv2.circle(show_img, (x, y), 2, (0, 0, 255), -1)\n",
    "    \n",
    "cv2.namedWindow(\"result\")\n",
    "#img = cv2.resize(img, (0, 0), fx = 1.5, fy = 1.5, interpolation=cv2.INTER_CUBIC)\n",
    "#cv2.imshow(\"result\", show_img)\n",
    "#cv2.waitKey(0)\n",
    "#cv2.destroyAllWindows()\n",
    "print(type(show_img))\n",
    "'''"
   ]
  },
  {
   "cell_type": "code",
   "execution_count": 18,
   "metadata": {},
   "outputs": [
    {
     "name": "stdout",
     "output_type": "stream",
     "text": [
      "Found 35 assets, index the returned LazyList to import.\n",
      "[====================] 100% (35/35) - done.                                     \n",
      "PointCloud: n_points: 68, n_dims: 2\n"
     ]
    }
   ],
   "source": [
    "path_to_target = Path('/Users/lls/lls/FaceDetect/my/dataset/TestS132/target/')\n",
    "target_shapes = []\n",
    "for lg in print_progress(mio.import_landmark_files(path_to_target / '*.pts', verbose=True)):\n",
    "    target_shapes.append(lg['all'])\n",
    "target_model = OrthoPDM(target_shapes, max_n_components=None)\n",
    "target = target_model.model.mean()\n",
    "# .lms convert the format of \"target\" to PointCloud\n",
    "#target = mio.import_landmark_file(\"/Users/lls/lls/FaceDetect/my/dataset/TestS132/target/S134_033.pts\").lms\n",
    "print(target)"
   ]
  },
  {
   "cell_type": "code",
   "execution_count": 76,
   "metadata": {},
   "outputs": [
    {
     "data": {
      "image/png": "[encoded data removed]",
      "text/plain": [
       "<matplotlib.figure.Figure at 0x12cf8d9e8>"
      ]
     },
     "metadata": {},
     "output_type": "display_data"
    }
   ],
   "source": [
    "visualize_pointclouds(target)"
   ]
  },
  {
   "cell_type": "code",
   "execution_count": 20,
   "metadata": {},
   "outputs": [
    {
     "name": "stdout",
     "output_type": "stream",
     "text": [
      "<class 'menpo.transform.homogeneous.affine.AlignmentAffine'>\n",
      "Affine decomposing into:  \n",
      "  CCW Rotation of 95.8 degrees about [0 0 1]\n",
      "  NonUniformScale by [ 0.9375641   0.92191893]\n",
      "  CCW Rotation of 96.4 degrees about [0 0 1]\n",
      "  Translation by [  1.25232617e-14  -1.11084570e-14]\n",
      "[[  9.22047199e-01  -1.14200852e-02   1.25232617e-14]\n",
      " [  8.08836561e-03   9.37333497e-01  -1.11084570e-14]\n",
      " [  0.00000000e+00   0.00000000e+00   1.00000000e+00]]\n",
      "PointCloud: n_points: 68, n_dims: 2\n"
     ]
    }
   ],
   "source": [
    "# align the source and target face\n",
    "## should target align to training_image[0]???\n",
    "transform = AlignmentAffine(target, shape_model.model.mean())\n",
    "print(type(transform))\n",
    "print(transform)\n",
    "# apply the affine to target\n",
    "normalized_shape = transform.apply(target)\n",
    "print(normalized_shape)\n"
   ]
  },
  {
   "cell_type": "code",
   "execution_count": 21,
   "metadata": {},
   "outputs": [
    {
     "name": "stdout",
     "output_type": "stream",
     "text": [
      "[ 49.35549104  -8.76692477  -3.58643983 -12.87928462   3.59037283\n",
      "  -1.52987544  13.40926965  -9.59832933   5.73541199  -6.02471721\n",
      "  -3.99110683   1.96655264   3.23221964   4.02804679  -6.43123645\n",
      "   7.12707081  -2.40342122   4.78437708   3.8294433 ]\n",
      "19\n"
     ]
    }
   ],
   "source": [
    "# project the target to the source,get the coords\n",
    "# alpha multi weights to change the intensity\n",
    "weights = shape_model.model.project(normalized_shape)\n",
    "weights_alpha1 = weights * 0.5\n",
    "weights_alpha2 = weights * 1.5\n",
    "weights_alpha3 = weights * 2\n",
    "print(weights)\n",
    "print(len(weights))"
   ]
  },
  {
   "cell_type": "code",
   "execution_count": 50,
   "metadata": {},
   "outputs": [
    {
     "name": "stdout",
     "output_type": "stream",
     "text": [
      "<class 'menpo.shape.pointcloud.PointCloud'>\n"
     ]
    }
   ],
   "source": [
    "reconstructed_normalized_shape = shape_model.model.instance(weights)\n",
    "reconstructed_normalized_shape1 = shape_model.model.instance(weights_alpha1, normalized_weights=True)\n",
    "reconstructed_normalized_shape2 = shape_model.model.instance(weights_alpha2, normalized_weights=True)\n",
    "reconstructed_normalized_shape3 = shape_model.model.instance(weights_alpha3, normalized_weights=True)\n",
    "# 将source旋转归一到target，本例中不需要\n",
    "#reconstructed_shape = transform.pseudoinverse().apply(reconstructed_normalized_shape)\n",
    "print (type(reconstructed_normalized_shape))"
   ]
  },
  {
   "cell_type": "code",
   "execution_count": 48,
   "metadata": {},
   "outputs": [
    {
     "data": {
      "text/plain": [
       "'\\nshow_img = cv2.imread(\\'/Users/lls/lls/FaceDetect/my/dataset/TestS132/source/S132_1.png\\')\\nfor i in range(len(mean_target)):\\n    x = int(mean_target[i][1])\\n    y = int(mean_target[i][0])\\n    cv2.circle(show_img, (x, y), 2, (0, 0, 255), -1)\\n    \\ncv2.namedWindow(\"result1\")\\n#img = cv2.resize(img, (0, 0), fx = 1.5, fy = 1.5, interpolation=cv2.INTER_CUBIC)\\ncv2.imshow(\"result1\", show_img)\\ncv2.waitKey(0)\\ncv2.destroyAllWindows()\\nprint((mean_target))\\nprint(type(show_img))\\n'"
      ]
     },
     "execution_count": 48,
     "metadata": {},
     "output_type": "execute_result"
    }
   ],
   "source": [
    "\n",
    "trans_target = AlignmentAffine(reconstructed_normalized_shape, training_shapes[0])\n",
    "trans_target_pc = trans_target.apply(reconstructed_normalized_shape)\n",
    "mean_target = trans_target_pc.h_points()[:2, ::].T\n",
    "'''\n",
    "show_img = cv2.imread('/Users/lls/lls/FaceDetect/my/dataset/TestS132/source/S132_1.png')\n",
    "for i in range(len(mean_target)):\n",
    "    x = int(mean_target[i][1])\n",
    "    y = int(mean_target[i][0])\n",
    "    cv2.circle(show_img, (x, y), 2, (0, 0, 255), -1)\n",
    "    \n",
    "cv2.namedWindow(\"result1\")\n",
    "#img = cv2.resize(img, (0, 0), fx = 1.5, fy = 1.5, interpolation=cv2.INTER_CUBIC)\n",
    "cv2.imshow(\"result1\", show_img)\n",
    "cv2.waitKey(0)\n",
    "cv2.destroyAllWindows()\n",
    "print((mean_target))\n",
    "print(type(show_img))\n",
    "'''"
   ]
  },
  {
   "cell_type": "code",
   "execution_count": 72,
   "metadata": {},
   "outputs": [
    {
     "data": {
      "text/plain": [
       "<matplotlib.text.Text at 0x12c5c9080>"
      ]
     },
     "execution_count": 72,
     "metadata": {},
     "output_type": "execute_result"
    },
    {
     "data": {
      "image/png": "[encoded data removed]",
      "text/plain": [
       "<matplotlib.figure.Figure at 0x1292f69e8>"
      ]
     },
     "metadata": {},
     "output_type": "display_data"
    }
   ],
   "source": [
    "#instance = shape_model.similarity_model.instance([0., 0., 0., 0.])\n",
    "#instance.view(render_axes=False);\n",
    "instance = shape_model.model.instance([3,0,0,0,0], normalized_weights=True)\n",
    "instance_np = instance.h_points()[:2, ::].T\n",
    "\n",
    "\n",
    "#instance.view(render_axes=False);\n",
    "#print (instance_np)\n",
    "#print(instance._as_vector())\n",
    "plt.subplot(141)\n",
    "mean_shape.view(render_axes=False, axes_x_limits=0.05, axes_y_limits=0.05)\n",
    "plt.gca().set_title('mean shape')\n",
    "plt.subplot(142)\n",
    "instance.view(render_axes=False, axes_x_limits=0.05, axes_y_limits=0.05)\n",
    "plt.gca().set_title('instance')\n",
    "plt.subplot(143)\n",
    "ins_vec.view(render_axes=False, axes_x_limits=0.05, axes_y_limits=0.05)\n",
    "plt.gca().set_title('instance')\n",
    "plt.subplot(144)\n",
    "reconstructed_normalized_shape.view(render_axes=False, axes_x_limits=0.05, axes_y_limits=0.05)\n",
    "plt.gca().set_title('instance')\n",
    "#print(mean_source)"
   ]
  },
  {
   "cell_type": "code",
   "execution_count": 66,
   "metadata": {},
   "outputs": [],
   "source": [
    "similarity = [0, 0, 0, 0]\n",
    "similarity.extend(list(weights))\n",
    "#print(similarity)\n",
    "ins_vec = shape_model.from_vector(similarity).target"
   ]
  },
  {
   "cell_type": "code",
   "execution_count": null,
   "metadata": {},
   "outputs": [],
   "source": []
  },
  {
   "cell_type": "code",
   "execution_count": 51,
   "metadata": {},
   "outputs": [
    {
     "data": {
      "text/plain": [
       "<matplotlib.text.Text at 0x10d3db550>"
      ]
     },
     "execution_count": 51,
     "metadata": {},
     "output_type": "execute_result"
    },
    {
     "data": {
      "image/png": "[encoded data removed]",
      "text/plain": [
       "<matplotlib.figure.Figure at 0x12b448f98>"
      ]
     },
     "metadata": {},
     "output_type": "display_data"
    }
   ],
   "source": [
    "plt.subplot(242)\n",
    "mean_shape.view(render_axes=False, axes_x_limits=0.05, axes_y_limits=0.05)\n",
    "plt.gca().set_title('Source shape')\n",
    "plt.subplot(243)\n",
    "target.view(render_axes=False, axes_x_limits=0.05, axes_y_limits=0.05)\n",
    "plt.gca().set_title('Target shape')\n",
    "plt.subplot(246)\n",
    "reconstructed_normalized_shape.view(render_axes=False, axes_x_limits=0.05, axes_y_limits=0.05)\n",
    "plt.gca().set_title('alpha = 1')\n",
    "plt.subplot(245)\n",
    "reconstructed_normalized_shape1.view(render_axes=False, axes_x_limits=0.05, axes_y_limits=0.05)\n",
    "plt.gca().set_title('alpha = 0.5')\n",
    "plt.subplot(247)\n",
    "reconstructed_normalized_shape2.view(render_axes=False, axes_x_limits=0.05, axes_y_limits=0.05)\n",
    "plt.gca().set_title('alpha = 1.5')\n",
    "plt.subplot(248)\n",
    "reconstructed_normalized_shape3.view(render_axes=False, axes_x_limits=0.05, axes_y_limits=0.05)\n",
    "plt.gca().set_title('alpha = 2')\n",
    "#plt.subplot(132)\n",
    "#target_lm.view(render_axes=False, axes_x_limits=0.05, axes_y_limits=0.05)\n",
    "#plt.gca().set_title('target shape')"
   ]
  },
  {
   "cell_type": "code",
   "execution_count": 25,
   "metadata": {},
   "outputs": [
    {
     "data": {
      "text/plain": [
       "True"
      ]
     },
     "execution_count": 25,
     "metadata": {},
     "output_type": "execute_result"
    }
   ],
   "source": [
    "white = np.zeros((490, 640)) + 255\n",
    "    \n",
    "cv2.imwrite('/Users/lls/lls/FaceDetect/my/result_img/linear_0.1/background.jpg', white)"
   ]
  },
  {
   "cell_type": "code",
   "execution_count": 75,
   "metadata": {
    "collapsed": true
   },
   "outputs": [],
   "source": [
    "fourcc = cv2.VideoWriter_fourcc(*'MJPG')\n",
    "videoWriter = cv2.VideoWriter('/Users/lls/lls/FaceDetect/my/result_img/linear_0.1/smile_video.avi',fourcc,30,(640,490))"
   ]
  },
  {
   "cell_type": "code",
   "execution_count": 76,
   "metadata": {},
   "outputs": [],
   "source": [
    "for alpha in range(-20,180,5):\n",
    "    a = alpha / 100.0\n",
    "    shape_tar = shape_model.model.instance(weights * a)\n",
    "    shape_tar_trans = AlignmentAffine(shape_tar, training_shapes[0])\n",
    "    trans_tar_pc = shape_tar_trans.apply(shape_tar)\n",
    "    shape_np = trans_tar_pc.h_points()[:2, ::].T\n",
    "    background = cv2.imread('/Users/lls/lls/FaceDetect/my/result_img/linear_0.1/background.jpg')\n",
    "    for i in  range(len(shape_np)):\n",
    "        x = int(shape_np[i][1])\n",
    "        y = int(shape_np[i][0])\n",
    "        cv2.circle(background, (x, y), 3, (0, 0, 255), -1)\n",
    "    #cv2.imwrite('/Users/lls/lls/FaceDetect/my/result_img/linear_0.1/' + str(a) + '.jpg', background)\n",
    "    videoWriter.write(background)\n",
    "videoWriter.release()        "
   ]
  },
  {
   "cell_type": "code",
   "execution_count": null,
   "metadata": {
    "collapsed": true
   },
   "outputs": [],
   "source": []
  }
 ],
 "metadata": {
  "kernelspec": {
   "display_name": "Python [conda env:menpo]",
   "language": "python",
   "name": "conda-env-menpo-py"
  },
  "language_info": {
   "codemirror_mode": {
    "name": "ipython",
    "version": 2
   },
   "file_extension": ".py",
   "mimetype": "text/x-python",
   "name": "python",
   "nbconvert_exporter": "python",
   "pygments_lexer": "ipython2",
   "version": "2.7.15"
  }
 },
 "nbformat": 4,
 "nbformat_minor": 1
}
